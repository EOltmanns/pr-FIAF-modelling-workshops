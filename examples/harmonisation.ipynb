{
 "cells": [
  {
   "cell_type": "code",
   "execution_count": 1,
   "metadata": {},
   "outputs": [
    {
     "name": "stdout",
     "output_type": "stream",
     "text": [
      "306 triples.\n"
     ]
    }
   ],
   "source": [
    "# load graph and perform find-replace on defined terms.\n",
    "# unused terms (\"unknown\") should be removed before this stage, and untranslated terms throw an error.\n",
    "# for now classes are inferred by property, better would be explicit declarations in the XML -> TTL transformation.\n",
    "\n",
    "import pathlib\n",
    "import rdflib\n",
    "\n",
    "def replace_entity(g, prop, rep):\n",
    "\n",
    "    ''' Tedious find and replace process. '''\n",
    "\n",
    "    countries = [o for s,p,o in g.triples((None, prop, None))]\n",
    "    for x in countries:\n",
    "        if x not in rep.keys():\n",
    "            raise Exception(f'Equivalent term not found for {x}.')\n",
    "\n",
    "    new_graph = rdflib.Graph()\n",
    "    for s,p,o in g.triples((None, None, None)):\n",
    "        if s in rep.keys():\n",
    "            s = rep[s]\n",
    "        if p in rep.keys():\n",
    "            p = rep[p]\n",
    "        if o in rep.keys():\n",
    "            o = rep[o]\n",
    "        new_graph.add((s,p,o))\n",
    "\n",
    "    return new_graph\n",
    "\n",
    "graph = rdflib.Graph()\n",
    "graph.parse(pathlib.Path.cwd() / 'cd6685c5.ttl')\n",
    "\n",
    "fiaf = rdflib.Namespace('https://fiafcore.org/ontology/')\n",
    "graph.bind(\"fiaf\", fiaf) \n",
    "\n",
    "# replace countries\n",
    "\n",
    "country_replace = {\n",
    "    rdflib.term.URIRef('https://www.bundesarchiv.de/country/%0A%09%09Bundesrepublik%20Deutschland%0A%09'): fiaf.Germany}\n",
    "\n",
    "graph = replace_entity(graph, fiaf.hasCountry, country_replace)\n",
    "\n",
    "# replace bases\n",
    "\n",
    "base_replace = {\n",
    "    rdflib.term.URIRef('https://www.bundesarchiv.de/base/%0A%09%09%09%09Triazetatzellulose%0A%09%09%09'): fiaf.Acetate,\n",
    "    rdflib.term.URIRef('https://www.bundesarchiv.de/base/%0A%09%09%09%09Polyethylenterephtalat%20%28Polyester%29%0A%09%09%09'): fiaf.Polyester,\n",
    "    \n",
    "    # interesting, you would want to remove \"unknown\" before you get to this stage.\n",
    "    rdflib.term.URIRef('https://www.bundesarchiv.de/base/%0A%09%09%09%09keiner%0A%09%09%09'): fiaf.Unknown,   \n",
    "    \n",
    "    }\n",
    "\n",
    "graph = replace_entity(graph, fiaf.hasBase, base_replace)\n",
    "\n",
    "# render harmonised graph.\n",
    "\n",
    "graph.serialize(destination=pathlib.Path.cwd() / 'cd6685c5-harmonised.ttl', format='ttl')\n",
    "print(len(graph), 'triples.')"
   ]
  }
 ],
 "metadata": {
  "kernelspec": {
   "display_name": "Python 3",
   "language": "python",
   "name": "python3"
  },
  "language_info": {
   "codemirror_mode": {
    "name": "ipython",
    "version": 3
   },
   "file_extension": ".py",
   "mimetype": "text/x-python",
   "name": "python",
   "nbconvert_exporter": "python",
   "pygments_lexer": "ipython3",
   "version": "3.10.6"
  },
  "orig_nbformat": 4,
  "vscode": {
   "interpreter": {
    "hash": "916dbcbb3f70747c44a77c7bcd40155683ae19c65e1c03b4aa3499c5328201f1"
   }
  }
 },
 "nbformat": 4,
 "nbformat_minor": 2
}
